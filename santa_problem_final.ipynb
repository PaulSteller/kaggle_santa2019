{
 "cells": [
  {
   "cell_type": "markdown",
   "metadata": {},
   "source": [
    "## Santa's Workshop Tour 2019\n",
    "\n",
    "This notebook is related to the Kaggle competition found here: https://www.kaggle.com/c/santa-workshop-tour-2019/overview\n",
    "\n",
    "I start by using the Hungarian Algorithm, followed by a couple different greedy algorithms I devised. I am pretty happy where I got my score, and I hope to return to this problem in the future and try a different method to minimize the score even further. "
   ]
  },
  {
   "cell_type": "markdown",
   "metadata": {},
   "source": [
    "## Data Visualization"
   ]
  },
  {
   "cell_type": "code",
   "execution_count": 2,
   "metadata": {},
   "outputs": [],
   "source": [
    "data = pd.read_csv('family_data.csv', index_col='family_id')\n",
    "\n",
    "submission = pd.read_csv('sample_submission.csv', index_col='family_id')"
   ]
  },
  {
   "cell_type": "code",
   "execution_count": 3,
   "metadata": {},
   "outputs": [
    {
     "data": {
      "text/html": [
       "<div>\n",
       "<style scoped>\n",
       "    .dataframe tbody tr th:only-of-type {\n",
       "        vertical-align: middle;\n",
       "    }\n",
       "\n",
       "    .dataframe tbody tr th {\n",
       "        vertical-align: top;\n",
       "    }\n",
       "\n",
       "    .dataframe thead th {\n",
       "        text-align: right;\n",
       "    }\n",
       "</style>\n",
       "<table border=\"1\" class=\"dataframe\">\n",
       "  <thead>\n",
       "    <tr style=\"text-align: right;\">\n",
       "      <th></th>\n",
       "      <th>choice_0</th>\n",
       "      <th>choice_1</th>\n",
       "      <th>choice_2</th>\n",
       "      <th>choice_3</th>\n",
       "      <th>choice_4</th>\n",
       "      <th>choice_5</th>\n",
       "      <th>choice_6</th>\n",
       "      <th>choice_7</th>\n",
       "      <th>choice_8</th>\n",
       "      <th>choice_9</th>\n",
       "      <th>n_people</th>\n",
       "    </tr>\n",
       "    <tr>\n",
       "      <th>family_id</th>\n",
       "      <th></th>\n",
       "      <th></th>\n",
       "      <th></th>\n",
       "      <th></th>\n",
       "      <th></th>\n",
       "      <th></th>\n",
       "      <th></th>\n",
       "      <th></th>\n",
       "      <th></th>\n",
       "      <th></th>\n",
       "      <th></th>\n",
       "    </tr>\n",
       "  </thead>\n",
       "  <tbody>\n",
       "    <tr>\n",
       "      <th>0</th>\n",
       "      <td>52</td>\n",
       "      <td>38</td>\n",
       "      <td>12</td>\n",
       "      <td>82</td>\n",
       "      <td>33</td>\n",
       "      <td>75</td>\n",
       "      <td>64</td>\n",
       "      <td>76</td>\n",
       "      <td>10</td>\n",
       "      <td>28</td>\n",
       "      <td>4</td>\n",
       "    </tr>\n",
       "    <tr>\n",
       "      <th>1</th>\n",
       "      <td>26</td>\n",
       "      <td>4</td>\n",
       "      <td>82</td>\n",
       "      <td>5</td>\n",
       "      <td>11</td>\n",
       "      <td>47</td>\n",
       "      <td>38</td>\n",
       "      <td>6</td>\n",
       "      <td>66</td>\n",
       "      <td>61</td>\n",
       "      <td>4</td>\n",
       "    </tr>\n",
       "    <tr>\n",
       "      <th>2</th>\n",
       "      <td>100</td>\n",
       "      <td>54</td>\n",
       "      <td>25</td>\n",
       "      <td>12</td>\n",
       "      <td>27</td>\n",
       "      <td>82</td>\n",
       "      <td>10</td>\n",
       "      <td>89</td>\n",
       "      <td>80</td>\n",
       "      <td>33</td>\n",
       "      <td>3</td>\n",
       "    </tr>\n",
       "    <tr>\n",
       "      <th>3</th>\n",
       "      <td>2</td>\n",
       "      <td>95</td>\n",
       "      <td>1</td>\n",
       "      <td>96</td>\n",
       "      <td>32</td>\n",
       "      <td>6</td>\n",
       "      <td>40</td>\n",
       "      <td>31</td>\n",
       "      <td>9</td>\n",
       "      <td>59</td>\n",
       "      <td>2</td>\n",
       "    </tr>\n",
       "    <tr>\n",
       "      <th>4</th>\n",
       "      <td>53</td>\n",
       "      <td>1</td>\n",
       "      <td>47</td>\n",
       "      <td>93</td>\n",
       "      <td>26</td>\n",
       "      <td>3</td>\n",
       "      <td>46</td>\n",
       "      <td>16</td>\n",
       "      <td>42</td>\n",
       "      <td>39</td>\n",
       "      <td>4</td>\n",
       "    </tr>\n",
       "  </tbody>\n",
       "</table>\n",
       "</div>"
      ],
      "text/plain": [
       "           choice_0  choice_1  choice_2  choice_3  choice_4  choice_5  \\\n",
       "family_id                                                               \n",
       "0                52        38        12        82        33        75   \n",
       "1                26         4        82         5        11        47   \n",
       "2               100        54        25        12        27        82   \n",
       "3                 2        95         1        96        32         6   \n",
       "4                53         1        47        93        26         3   \n",
       "\n",
       "           choice_6  choice_7  choice_8  choice_9  n_people  \n",
       "family_id                                                    \n",
       "0                64        76        10        28         4  \n",
       "1                38         6        66        61         4  \n",
       "2                10        89        80        33         3  \n",
       "3                40        31         9        59         2  \n",
       "4                46        16        42        39         4  "
      ]
     },
     "execution_count": 3,
     "metadata": {},
     "output_type": "execute_result"
    }
   ],
   "source": [
    "data.head()"
   ]
  },
  {
   "cell_type": "code",
   "execution_count": 4,
   "metadata": {},
   "outputs": [
    {
     "data": {
      "image/png": "[encoded data removed]",
      "text/plain": [
       "<Figure size 360x360 with 1 Axes>"
      ]
     },
     "metadata": {
      "needs_background": "light"
     },
     "output_type": "display_data"
    }
   ],
   "source": [
    "#size of families \n",
    "\n",
    "x = [2,3,4,5,6,7,8,]\n",
    "ax = pd.Series(data['n_people']).value_counts().loc[x].plot(kind='bar',\n",
    "                                    figsize=(5,5),\n",
    "                                    title='Number of Family members')"
   ]
  },
  {
   "cell_type": "code",
   "execution_count": 5,
   "metadata": {},
   "outputs": [
    {
     "data": {
      "image/png": "[encoded data removed]",
      "text/plain": [
       "<Figure size 1440x216 with 1 Axes>"
      ]
     },
     "metadata": {
      "needs_background": "light"
     },
     "output_type": "display_data"
    },
    {
     "data": {
      "image/png": "[encoded data removed]",
      "text/plain": [
       "<Figure size 1440x216 with 1 Axes>"
      ]
     },
     "metadata": {
      "needs_background": "light"
     },
     "output_type": "display_data"
    },
    {
     "data": {
      "image/png": "[encoded data removed]",
      "text/plain": [
       "<Figure size 1440x216 with 1 Axes>"
      ]
     },
     "metadata": {
      "needs_background": "light"
     },
     "output_type": "display_data"
    }
   ],
   "source": [
    "#show the distribution of top choices\n",
    "\n",
    "top_choice = 3\n",
    "\n",
    "x = list(range(1,101))\n",
    "for i in range(top_choice):\n",
    "    ax = pd.Series(data['choice_%s' %i]).value_counts().loc[x].plot(kind='bar',\n",
    "                                    figsize=(20,3),\n",
    "                                    title='Choice_%s' %i)\n",
    "    plt.show()\n",
    "    \n",
    "    "
   ]
  },
  {
   "cell_type": "markdown",
   "metadata": {},
   "source": [
    "### Note the pattern. It seems as though families prefer to come on weekends. I wonder if this can be exploited."
   ]
  },
  {
   "cell_type": "markdown",
   "metadata": {},
   "source": [
    "## Creating the matrix"
   ]
  },
  {
   "cell_type": "code",
   "execution_count": 6,
   "metadata": {},
   "outputs": [],
   "source": [
    "#function to create tiled 5000x5000 matrix\n",
    "def create_matrix():\n",
    "\n",
    "    #create empty matrix\n",
    "    matrix = np.empty((5000,100))\n",
    "    matrix[:]=np.nan\n",
    "    \n",
    "    #the '- 1' comes from the fact that the matrix columns are 0 through 99, not 1 through 100\n",
    "\n",
    "    for i in range(5000):\n",
    "        n = data.n_people[i]\n",
    "        \n",
    "        matrix[i, data.choice_0[i] - 1] = 0\n",
    "        matrix[i, data.choice_1[i] - 1] = 50\n",
    "        matrix[i, data.choice_2[i] - 1] = 50 + 9 * n\n",
    "        matrix[i, data.choice_3[i] - 1] = 100 + 9 * n\n",
    "        matrix[i, data.choice_4[i] - 1] = 200 + 9 * n\n",
    "        matrix[i, data.choice_5[i] - 1] = 200 + 18 * n\n",
    "        matrix[i, data.choice_6[i] - 1] = 300 + 18 * n\n",
    "        matrix[i, data.choice_7[i] - 1] = 300 + 36 * n\n",
    "        matrix[i, data.choice_8[i] - 1] = 400 + 36 * n\n",
    "        matrix[i, data.choice_9[i] - 1] = 500 + 36 * n + 199 * n\n",
    "\n",
    "        #replace NaN values with maximum possible penalty \n",
    "        for j in range(100):\n",
    "            if math.isnan(matrix[i,j]):\n",
    "                matrix[i,j] = 500 + 36 * n + 398 * n\n",
    "                \n",
    "#make identical copies of 5000x100 matrix to fill up 5000x5000\n",
    "    matrix = np.tile(matrix,(1,50))\n",
    "    \n",
    "    return matrix"
   ]
  },
  {
   "cell_type": "markdown",
   "metadata": {},
   "source": [
    "### The following code is from the starter notebook, found on the kaggle website\n",
    "It defines the function to measure the cost of a submission"
   ]
  },
  {
   "cell_type": "code",
   "execution_count": 7,
   "metadata": {},
   "outputs": [],
   "source": [
    "family_size_dict = data[['n_people']].to_dict()['n_people']\n",
    "\n",
    "cols = [f'choice_{i}' for i in range(10)]\n",
    "choice_dict = data[cols].to_dict()\n",
    "\n",
    "N_DAYS = 100\n",
    "MAX_OCCUPANCY = 300\n",
    "MIN_OCCUPANCY = 125\n",
    "\n",
    "# from 100 to 1\n",
    "days = list(range(N_DAYS,0,-1))\n",
    "\n",
    "\n",
    "\n",
    "def cost_function(prediction):\n",
    "\n",
    "    penalty = 0\n",
    "\n",
    "    # We'll use this to count the number of people scheduled each day\n",
    "    daily_occupancy = {k:0 for k in days}\n",
    "    \n",
    "    # Looping over each family; d is the day for each family f\n",
    "    for f, d in enumerate(prediction):\n",
    "\n",
    "        # Using our lookup dictionaries to make simpler variable names\n",
    "        n = family_size_dict[f]\n",
    "        choice_0 = choice_dict['choice_0'][f]\n",
    "        choice_1 = choice_dict['choice_1'][f]\n",
    "        choice_2 = choice_dict['choice_2'][f]\n",
    "        choice_3 = choice_dict['choice_3'][f]\n",
    "        choice_4 = choice_dict['choice_4'][f]\n",
    "        choice_5 = choice_dict['choice_5'][f]\n",
    "        choice_6 = choice_dict['choice_6'][f]\n",
    "        choice_7 = choice_dict['choice_7'][f]\n",
    "        choice_8 = choice_dict['choice_8'][f]\n",
    "        choice_9 = choice_dict['choice_9'][f]\n",
    "\n",
    "        # add the family member count to the daily occupancy\n",
    "        daily_occupancy[d] += n\n",
    "\n",
    "        # Calculate the penalty for not getting top preference\n",
    "        if d == choice_0:\n",
    "            penalty += 0\n",
    "        elif d == choice_1:\n",
    "            penalty += 50\n",
    "        elif d == choice_2:\n",
    "            penalty += 50 + 9 * n\n",
    "        elif d == choice_3:\n",
    "            penalty += 100 + 9 * n\n",
    "        elif d == choice_4:\n",
    "            penalty += 200 + 9 * n\n",
    "        elif d == choice_5:\n",
    "            penalty += 200 + 18 * n\n",
    "        elif d == choice_6:\n",
    "            penalty += 300 + 18 * n\n",
    "        elif d == choice_7:\n",
    "            penalty += 300 + 36 * n\n",
    "        elif d == choice_8:\n",
    "            penalty += 400 + 36 * n\n",
    "        elif d == choice_9:\n",
    "            penalty += 500 + 36 * n + 199 * n\n",
    "        else:\n",
    "            penalty += 500 + 36 * n + 398 * n\n",
    "\n",
    "    # for each date, check total occupancy\n",
    "    #  (using soft constraints instead of hard constraints)\n",
    "    for _, v in daily_occupancy.items():\n",
    "        if (v > MAX_OCCUPANCY) or (v < MIN_OCCUPANCY):\n",
    "            penalty += 100000000\n",
    "\n",
    "    # Calculate the accounting cost\n",
    "    # The first day (day 100) is treated special\n",
    "    accounting_cost = (daily_occupancy[days[0]]-125.0) / 400.0 * daily_occupancy[days[0]]**(0.5)\n",
    "    # using the max function because the soft constraints might allow occupancy to dip below 125\n",
    "    accounting_cost = max(0, accounting_cost)\n",
    "    \n",
    "    # Loop over the rest of the days, keeping track of previous count\n",
    "    yesterday_count = daily_occupancy[days[0]]\n",
    "    for day in days[1:]:\n",
    "        today_count = daily_occupancy[day]\n",
    "        diff = abs(today_count - yesterday_count)\n",
    "        accounting_cost += max(0, (daily_occupancy[day]-125.0) / 400.0 * daily_occupancy[day]**(0.5 + diff / 50.0))\n",
    "        yesterday_count = today_count\n",
    "\n",
    "    penalty += accounting_cost\n",
    "\n",
    "    return penalty"
   ]
  },
  {
   "cell_type": "markdown",
   "metadata": {},
   "source": [
    "## Using the Hungarian Algorithm\n",
    "https://en.wikipedia.org/wiki/Hungarian_algorithm\n",
    "\n",
    "An algorithm for solving the assignment problem. Since we made 50 identical copies of our 5000x100 matrix, we are \"assigning\" each family to one of the columns (ie one of the days). This will certainly not give us the best score, as it assumes that each day should have exactly 50 families. It is a good place to start, though."
   ]
  },
  {
   "cell_type": "code",
   "execution_count": 8,
   "metadata": {},
   "outputs": [
    {
     "name": "stdout",
     "output_type": "stream",
     "text": [
      "28.720292806625366 seconds\n"
     ]
    }
   ],
   "source": [
    "start = time.time()\n",
    "\n",
    "matrix = create_matrix()\n",
    "row_ind, col_ind = linear_sum_assignment(matrix)\n",
    "\n",
    "print((time.time() - start), 'seconds')"
   ]
  },
  {
   "cell_type": "code",
   "execution_count": 9,
   "metadata": {},
   "outputs": [
    {
     "data": {
      "text/plain": [
       "142850.0"
      ]
     },
     "execution_count": 9,
     "metadata": {},
     "output_type": "execute_result"
    }
   ],
   "source": [
    "#the penalty NOT including the acounting penalty\n",
    "matrix[row_ind, col_ind].sum()"
   ]
  },
  {
   "cell_type": "code",
   "execution_count": 11,
   "metadata": {},
   "outputs": [],
   "source": [
    "submission['assigned_day'] = (col_ind % 100) +1"
   ]
  },
  {
   "cell_type": "code",
   "execution_count": 12,
   "metadata": {},
   "outputs": [
    {
     "data": {
      "text/html": [
       "<div>\n",
       "<style scoped>\n",
       "    .dataframe tbody tr th:only-of-type {\n",
       "        vertical-align: middle;\n",
       "    }\n",
       "\n",
       "    .dataframe tbody tr th {\n",
       "        vertical-align: top;\n",
       "    }\n",
       "\n",
       "    .dataframe thead th {\n",
       "        text-align: right;\n",
       "    }\n",
       "</style>\n",
       "<table border=\"1\" class=\"dataframe\">\n",
       "  <thead>\n",
       "    <tr style=\"text-align: right;\">\n",
       "      <th></th>\n",
       "      <th>assigned_day</th>\n",
       "    </tr>\n",
       "    <tr>\n",
       "      <th>family_id</th>\n",
       "      <th></th>\n",
       "    </tr>\n",
       "  </thead>\n",
       "  <tbody>\n",
       "    <tr>\n",
       "      <th>0</th>\n",
       "      <td>52</td>\n",
       "    </tr>\n",
       "    <tr>\n",
       "      <th>1</th>\n",
       "      <td>26</td>\n",
       "    </tr>\n",
       "    <tr>\n",
       "      <th>2</th>\n",
       "      <td>100</td>\n",
       "    </tr>\n",
       "    <tr>\n",
       "      <th>3</th>\n",
       "      <td>2</td>\n",
       "    </tr>\n",
       "    <tr>\n",
       "      <th>4</th>\n",
       "      <td>93</td>\n",
       "    </tr>\n",
       "    <tr>\n",
       "      <th>...</th>\n",
       "      <td>...</td>\n",
       "    </tr>\n",
       "    <tr>\n",
       "      <th>4995</th>\n",
       "      <td>16</td>\n",
       "    </tr>\n",
       "    <tr>\n",
       "      <th>4996</th>\n",
       "      <td>88</td>\n",
       "    </tr>\n",
       "    <tr>\n",
       "      <th>4997</th>\n",
       "      <td>32</td>\n",
       "    </tr>\n",
       "    <tr>\n",
       "      <th>4998</th>\n",
       "      <td>92</td>\n",
       "    </tr>\n",
       "    <tr>\n",
       "      <th>4999</th>\n",
       "      <td>13</td>\n",
       "    </tr>\n",
       "  </tbody>\n",
       "</table>\n",
       "<p>5000 rows × 1 columns</p>\n",
       "</div>"
      ],
      "text/plain": [
       "           assigned_day\n",
       "family_id              \n",
       "0                    52\n",
       "1                    26\n",
       "2                   100\n",
       "3                     2\n",
       "4                    93\n",
       "...                 ...\n",
       "4995                 16\n",
       "4996                 88\n",
       "4997                 32\n",
       "4998                 92\n",
       "4999                 13\n",
       "\n",
       "[5000 rows x 1 columns]"
      ]
     },
     "execution_count": 12,
     "metadata": {},
     "output_type": "execute_result"
    }
   ],
   "source": [
    "submission"
   ]
  },
  {
   "cell_type": "code",
   "execution_count": 13,
   "metadata": {},
   "outputs": [
    {
     "data": {
      "image/png": "[encoded data removed]",
      "text/plain": [
       "<Figure size 1440x216 with 1 Axes>"
      ]
     },
     "metadata": {
      "needs_background": "light"
     },
     "output_type": "display_data"
    }
   ],
   "source": [
    "\n",
    "x = list(range(1,101))\n",
    "ax = pd.Series(list((col_ind % 100) +1)).value_counts().loc[x].plot(kind='bar',\n",
    "                                    figsize=(20,3))\n",
    "plt.xlabel('Day')\n",
    "plt.ylabel('Frequency')\n",
    "plt.show()\n",
    "    "
   ]
  },
  {
   "cell_type": "code",
   "execution_count": 14,
   "metadata": {},
   "outputs": [
    {
     "data": {
      "text/plain": [
       "144418.1354247473"
      ]
     },
     "execution_count": 14,
     "metadata": {},
     "output_type": "execute_result"
    }
   ],
   "source": [
    "cost_function(submission['assigned_day'])"
   ]
  },
  {
   "cell_type": "markdown",
   "metadata": {},
   "source": [
    "As you can see from the plot (and as we mentioned before), this method assigns an equal number of families to each day. This will hopefully make the value $|N_d - N_{d+1}|$ (as seen in the accountant penalty) small. We can be pretty sure that this also allows us to stay within the bounds of having 125-300 people each day. However, my conjecture is that the true optimum assignment will not have an equal number of families each day. This is probably true because the distribution of family choices is not uniform. More families want to come on the weekends than during the week."
   ]
  },
  {
   "cell_type": "markdown",
   "metadata": {},
   "source": [
    "## Using the Jonker-Volgenant algorithm\n",
    "\n",
    "### (should get same result)\n",
    "\n",
    "I found this algorithm while doing some research on the Hungarian Algorithm. It should be slightly faster than the Hungarian Algorithm."
   ]
  },
  {
   "cell_type": "code",
   "execution_count": 48,
   "metadata": {},
   "outputs": [
    {
     "name": "stdout",
     "output_type": "stream",
     "text": [
      "20.399199962615967 seconds\n"
     ]
    }
   ],
   "source": [
    "start = time.time()\n",
    "\n",
    "matrix = create_matrix()\n",
    "least_cost, col, row = lapjv(matrix)\n",
    "\n",
    "print((time.time() - start), 'seconds')"
   ]
  },
  {
   "cell_type": "code",
   "execution_count": 49,
   "metadata": {},
   "outputs": [
    {
     "data": {
      "text/plain": [
       "142850.0"
      ]
     },
     "execution_count": 49,
     "metadata": {},
     "output_type": "execute_result"
    }
   ],
   "source": [
    "least_cost"
   ]
  },
  {
   "cell_type": "code",
   "execution_count": 50,
   "metadata": {},
   "outputs": [],
   "source": [
    "submission['assigned_day'] = (col_ind % 100) +1"
   ]
  },
  {
   "cell_type": "code",
   "execution_count": 52,
   "metadata": {},
   "outputs": [
    {
     "data": {
      "text/plain": [
       "144418.1354247473"
      ]
     },
     "execution_count": 52,
     "metadata": {},
     "output_type": "execute_result"
    }
   ],
   "source": [
    "cost_function(submission['assigned_day'])"
   ]
  },
  {
   "cell_type": "markdown",
   "metadata": {},
   "source": [
    "## Greedy Algorithm \n",
    "Let's take our answer from the Hungarian/Jonker-Volgenant algorithm and use a greedy approach to try to find a better submission. In every iteration, we look at each familiy's choice, consider the rest of their top choices, and if there is a better choice, we move that family to that choice. The code written below is slow, but because there are only 5000 families, it is doable. This method certainly would not scale well if there were many more families."
   ]
  },
  {
   "cell_type": "code",
   "execution_count": 53,
   "metadata": {},
   "outputs": [],
   "source": [
    "new = submission['assigned_day'].tolist()"
   ]
  },
  {
   "cell_type": "code",
   "execution_count": 54,
   "metadata": {},
   "outputs": [],
   "source": [
    "to_plot = [cost_function(new)]"
   ]
  },
  {
   "cell_type": "code",
   "execution_count": 55,
   "metadata": {},
   "outputs": [
    {
     "data": {
      "text/plain": [
       "[144418.1354247473]"
      ]
     },
     "execution_count": 55,
     "metadata": {},
     "output_type": "execute_result"
    }
   ],
   "source": [
    "to_plot"
   ]
  },
  {
   "cell_type": "code",
   "execution_count": 56,
   "metadata": {},
   "outputs": [
    {
     "name": "stdout",
     "output_type": "stream",
     "text": [
      "Score: 95702.27984338652\n",
      "Score: 90772.72904145866\n",
      "Score: 88580.04939239968\n",
      "Score: 87122.07974833704\n",
      "Score: 86269.33732242053\n",
      "Score: 85651.76132346831\n",
      "Score: 85289.4509447189\n",
      "Score: 84733.15254174186\n",
      "Score: 84540.88913633623\n",
      "Score: 84286.87388983801\n",
      "Score: 84159.54838193965\n",
      "Score: 84156.00679142779\n",
      "Score: 84141.74387357583\n",
      "Score: 84141.74387357583\n",
      "Score: 84141.74387357583\n",
      "Score: 84141.74387357583\n",
      "Score: 84141.74387357583\n",
      "Score: 84141.74387357583\n",
      "Score: 84141.74387357583\n",
      "Score: 84141.74387357583\n",
      "88.17431333065034 minutes\n"
     ]
    }
   ],
   "source": [
    "start = time.time()\n",
    "\n",
    "iterations = 20\n",
    "for j in range(iterations):\n",
    "    for i in range(5000):\n",
    "        for k in range(10):\n",
    "            if np.where(data.iloc[i,0:10] == new[i])[0][0] == k:\n",
    "\n",
    "                new_temp1 = new.copy()\n",
    "                new_temp2 = new.copy()\n",
    "                new_temp3 = new.copy()\n",
    "                new_temp4 = new.copy()\n",
    "                new_temp5 = new.copy()\n",
    "                new_temp6 = new.copy()\n",
    "                new_temp7 = new.copy()\n",
    "                new_temp8 = new.copy()\n",
    "                new_temp9 = new.copy()\n",
    "\n",
    "                new_temp1[i] = data.iloc[i,(k+1)%10]\n",
    "                new_temp2[i] = data.iloc[i,(k+2)%10]\n",
    "                new_temp3[i] = data.iloc[i,(k+3)%10]\n",
    "                new_temp4[i] = data.iloc[i,(k+4)%10]\n",
    "                new_temp5[i] = data.iloc[i,(k+5)%10]\n",
    "                new_temp6[i] = data.iloc[i,(k+6)%10]\n",
    "                new_temp7[i] = data.iloc[i,(k+7)%10]\n",
    "                new_temp8[i] = data.iloc[i,(k+8)%10]\n",
    "                new_temp9[i] = data.iloc[i,(k+9)%10]\n",
    "\n",
    "                shifts = [(k+1)%10,(k+2)%10,(k+3)%10,(k+4)%10,(k+5)%10,(k+6)%10,(k+7)%10,(k+8)%10,(k+9)%10]\n",
    "                if np.min([cost_function(new_temp1),cost_function(new_temp2),cost_function(new_temp3),cost_function(new_temp4), cost_function(new_temp5),\n",
    "                           cost_function(new_temp6),cost_function(new_temp7),cost_function(new_temp8),cost_function(new_temp9)]) < cost_function(new):\n",
    "                    new_column = np.argmin([cost_function(new_temp1),cost_function(new_temp2),cost_function(new_temp3),cost_function(new_temp4), \n",
    "                                            cost_function(new_temp5),cost_function(new_temp6),cost_function(new_temp7),cost_function(new_temp8),\n",
    "                                            cost_function(new_temp9)]) \n",
    "                    new[i] = data.iloc[i,shifts[new_column]]\n",
    "    \n",
    "    score = cost_function(new)\n",
    "    to_plot.append(score)\n",
    "    print(f'Score: {score}')\n",
    "    \n",
    "    \n",
    "print((time.time() - start)/60, 'minutes')"
   ]
  },
  {
   "cell_type": "code",
   "execution_count": 57,
   "metadata": {},
   "outputs": [
    {
     "data": {
      "image/png": "[encoded data removed]",
      "text/plain": [
       "<Figure size 432x288 with 1 Axes>"
      ]
     },
     "metadata": {
      "needs_background": "light"
     },
     "output_type": "display_data"
    }
   ],
   "source": [
    "plt.scatter(list(range(21)), to_plot)\n",
    "plt.xlabel('Iteration')\n",
    "plt.ylabel('Cost')\n",
    "plt.show()"
   ]
  },
  {
   "cell_type": "markdown",
   "metadata": {},
   "source": [
    "### Using this approach, our best (minimum) possible score seems to be 84141.\n",
    "Looking at the last 8 iterations, the score does not change. Thus, we would not be able to improve the score further by changing a single family's position."
   ]
  },
  {
   "cell_type": "code",
   "execution_count": 64,
   "metadata": {},
   "outputs": [
    {
     "data": {
      "image/png": "[encoded data removed]",
      "text/plain": [
       "<Figure size 1440x216 with 1 Axes>"
      ]
     },
     "metadata": {
      "needs_background": "light"
     },
     "output_type": "display_data"
    }
   ],
   "source": [
    "x = list(range(1,101))\n",
    "ax = pd.Series(new).value_counts().loc[x].plot(kind='bar',\n",
    "                                    figsize=(20,3))\n",
    "plt.xlabel('Day')\n",
    "plt.ylabel('Frequency')\n",
    "plt.title('Distribution of Families')\n",
    "plt.show()"
   ]
  },
  {
   "cell_type": "markdown",
   "metadata": {},
   "source": [
    "### Notice, now the submission reflects the fact that more families want to come on the weekends "
   ]
  },
  {
   "cell_type": "code",
   "execution_count": 58,
   "metadata": {},
   "outputs": [],
   "source": [
    "df =  pd.DataFrame(new)"
   ]
  },
  {
   "cell_type": "code",
   "execution_count": 59,
   "metadata": {},
   "outputs": [],
   "source": [
    "#save to csv\n",
    "df.to_csv('submission_1.csv', index = False)"
   ]
  },
  {
   "cell_type": "code",
   "execution_count": 98,
   "metadata": {},
   "outputs": [],
   "source": [
    "#this is here in case I restart the kernel or mess something up\n",
    "new = pd.read_csv('submission_1.csv')\n",
    "new = new['0'].tolist()"
   ]
  },
  {
   "cell_type": "code",
   "execution_count": 60,
   "metadata": {},
   "outputs": [
    {
     "data": {
      "text/plain": [
       "5000"
      ]
     },
     "execution_count": 60,
     "metadata": {},
     "output_type": "execute_result"
    }
   ],
   "source": [
    "#check to see if all assignments are a top 10 choice\n",
    "tally = 0\n",
    "for j in range(10):\n",
    "    for i in range(5000):\n",
    "        if np.where(data.iloc[i,0:10] == new[i])[0][0] == j:\n",
    "            tally += 1\n",
    "tally"
   ]
  },
  {
   "cell_type": "code",
   "execution_count": 61,
   "metadata": {},
   "outputs": [
    {
     "data": {
      "text/plain": [
       "5000"
      ]
     },
     "execution_count": 61,
     "metadata": {},
     "output_type": "execute_result"
    }
   ],
   "source": [
    "#how many assignments are a top 6 choice\n",
    "tally = 0\n",
    "for j in range(6):\n",
    "    for i in range(5000):\n",
    "        if np.where(data.iloc[i,0:10] == new[i])[0][0] == j:\n",
    "            tally += 1\n",
    "tally"
   ]
  },
  {
   "cell_type": "markdown",
   "metadata": {},
   "source": [
    "So there are no families with less than their top 6th choice."
   ]
  },
  {
   "cell_type": "code",
   "execution_count": 99,
   "metadata": {},
   "outputs": [
    {
     "data": {
      "text/plain": [
       "789"
      ]
     },
     "execution_count": 99,
     "metadata": {},
     "output_type": "execute_result"
    }
   ],
   "source": [
    "#how many families are getting their second choice\n",
    "tally = 0\n",
    "for i in range(5000):\n",
    "    if np.where(data.iloc[i,0:10] == new[i])[0][0] == 1:\n",
    "        tally += 1\n",
    "tally"
   ]
  },
  {
   "cell_type": "markdown",
   "metadata": {},
   "source": [
    "Let's see if we can wiggle around some of these second choice families.\n",
    "\n",
    "We are going to search through every pair of families placed in their second choice day and change them to either i) both first choice, ii) both third choices, or iii)/iv) one first choice and one third choice. Similar to the greedy approach above, we check to see if this is an improvement. If it is, we keep the change. If not, we disregard it."
   ]
  },
  {
   "cell_type": "code",
   "execution_count": 101,
   "metadata": {},
   "outputs": [
    {
     "data": {
      "text/plain": [
       "789"
      ]
     },
     "execution_count": 101,
     "metadata": {},
     "output_type": "execute_result"
    }
   ],
   "source": [
    "second_choice = []\n",
    "for i in range(5000):\n",
    "    if np.where(data.iloc[i,0:10] == new[i])[0][0] == 1:\n",
    "        second_choice.append(i)\n",
    "        \n",
    "len(second_choice)    "
   ]
  },
  {
   "cell_type": "code",
   "execution_count": 109,
   "metadata": {},
   "outputs": [
    {
     "name": "stderr",
     "output_type": "stream",
     "text": [
      "100%|██████████| 310866/310866 [3:11:49<00:00, 27.01it/s]  "
     ]
    },
    {
     "name": "stdout",
     "output_type": "stream",
     "text": [
      "Score: 84039.40188272244\n"
     ]
    },
    {
     "name": "stderr",
     "output_type": "stream",
     "text": [
      "\n"
     ]
    }
   ],
   "source": [
    "from tqdm import tqdm\n",
    "from itertools import combinations\n",
    "\n",
    "combi = list(combinations(range(789),2))\n",
    "\n",
    "for i in tqdm(range(310866)):\n",
    "    one = combi[i][0]\n",
    "    two = combi[i][1]\n",
    "    \n",
    "    new_temp = new.copy()\n",
    "    \n",
    "    new_temp[second_choice[one]] = data.iloc[second_choice[one], 0]\n",
    "    new_temp[second_choice[two]] = data.iloc[second_choice[two], 0]\n",
    "    \n",
    "    if cost_function(new_temp) < cost_function(new):\n",
    "        new[second_choice[one]] = data.iloc[second_choice[one], 0]\n",
    "        new[second_choice[two]] = data.iloc[second_choice[two], 0]\n",
    "    \n",
    "    \n",
    "    new_temp = new.copy()\n",
    "    \n",
    "    new_temp[second_choice[one]] = data.iloc[second_choice[one], 0]\n",
    "    new_temp[second_choice[two]] = data.iloc[second_choice[two], 2]\n",
    "    \n",
    "    if cost_function(new_temp) < cost_function(new):\n",
    "        new[second_choice[one]] = data.iloc[second_choice[one], 0]\n",
    "        new[second_choice[two]] = data.iloc[second_choice[two], 2]\n",
    "    \n",
    "    new_temp = new.copy()\n",
    "    \n",
    "    new_temp[second_choice[one]] = data.iloc[second_choice[one], 2]\n",
    "    new_temp[second_choice[two]] = data.iloc[second_choice[two], 0]\n",
    "    \n",
    "    if cost_function(new_temp) < cost_function(new):\n",
    "        new[second_choice[one]] = data.iloc[second_choice[one], 2]\n",
    "        new[second_choice[two]] = data.iloc[second_choice[two], 0]\n",
    "        \n",
    "    new_temp = new.copy()\n",
    "    \n",
    "    new_temp[second_choice[one]] = data.iloc[second_choice[one], 2]\n",
    "    new_temp[second_choice[two]] = data.iloc[second_choice[two], 2]\n",
    "    \n",
    "    if cost_function(new_temp) < cost_function(new):\n",
    "        new[second_choice[one]] = data.iloc[second_choice[one], 2]\n",
    "        new[second_choice[two]] = data.iloc[second_choice[two], 2]\n",
    "\n",
    "\n",
    "score = cost_function(new)\n",
    "print(f'Score: {score}')"
   ]
  },
  {
   "cell_type": "markdown",
   "metadata": {},
   "source": [
    "So we improve our score by about 100. Not ideal, considering how computationally expensive it was."
   ]
  },
  {
   "cell_type": "code",
   "execution_count": 111,
   "metadata": {},
   "outputs": [],
   "source": [
    "df =  pd.DataFrame(new)\n",
    "#save to csv\n",
    "df.to_csv('submission_2.csv', index = False)"
   ]
  },
  {
   "cell_type": "code",
   "execution_count": 133,
   "metadata": {},
   "outputs": [],
   "source": [
    "#this is here in case I restart the kernel or mess something up\n",
    "new = pd.read_csv('submission_2.csv')\n",
    "new = new['0'].tolist()"
   ]
  },
  {
   "cell_type": "markdown",
   "metadata": {},
   "source": [
    "Let's do the same type of search for pairs of families who had their 3rd through 6th day choices. This should be a little quicker, as there are far fewer families with their 3rd through 6th choice than with their 2nd choice."
   ]
  },
  {
   "cell_type": "code",
   "execution_count": 134,
   "metadata": {},
   "outputs": [
    {
     "name": "stderr",
     "output_type": "stream",
     "text": [
      "100%|██████████| 28441/28441 [18:33<00:00, 25.55it/s]\n"
     ]
    },
    {
     "name": "stdout",
     "output_type": "stream",
     "text": [
      "Score: 83982.83256415663\n"
     ]
    },
    {
     "name": "stderr",
     "output_type": "stream",
     "text": [
      "100%|██████████| 3655/3655 [02:17<00:00, 26.59it/s]\n"
     ]
    },
    {
     "name": "stdout",
     "output_type": "stream",
     "text": [
      "Score: 83982.83256415663\n"
     ]
    },
    {
     "name": "stderr",
     "output_type": "stream",
     "text": [
      "100%|██████████| 120/120 [00:04<00:00, 28.13it/s]\n"
     ]
    },
    {
     "name": "stdout",
     "output_type": "stream",
     "text": [
      "Score: 83982.83256415663\n"
     ]
    },
    {
     "name": "stderr",
     "output_type": "stream",
     "text": [
      "100%|██████████| 15/15 [00:00<00:00, 28.16it/s]"
     ]
    },
    {
     "name": "stdout",
     "output_type": "stream",
     "text": [
      "Score: 83982.83256415663\n"
     ]
    },
    {
     "name": "stderr",
     "output_type": "stream",
     "text": [
      "\n"
     ]
    }
   ],
   "source": [
    "for k in range(2,6): \n",
    "    choice = []\n",
    "    for i in range(5000):\n",
    "        if np.where(data.iloc[i,0:10] == new[i])[0][0] == k:\n",
    "            choice.append(i)\n",
    "\n",
    "    \n",
    "    combi = list(combinations(range(len(choice)),2))\n",
    "\n",
    "    for i in tqdm(range(len(combi))):\n",
    "        one = combi[i][0]\n",
    "        two = combi[i][1]\n",
    "\n",
    "        new_temp = new.copy()\n",
    "\n",
    "        new_temp[choice[one]] = data.iloc[choice[one], k-1]\n",
    "        new_temp[choice[two]] = data.iloc[choice[two], k-1]\n",
    "\n",
    "        if cost_function(new_temp) < cost_function(new):\n",
    "            new[choice[one]] = data.iloc[choice[one], k-1]\n",
    "            new[choice[two]] = data.iloc[choice[two], k-1]\n",
    "\n",
    "\n",
    "        new_temp = new.copy()\n",
    "\n",
    "        new_temp[choice[one]] = data.iloc[choice[one], k-1]\n",
    "        new_temp[choice[two]] = data.iloc[choice[two], k+1]\n",
    "\n",
    "        if cost_function(new_temp) < cost_function(new):\n",
    "            new[choice[one]] = data.iloc[choice[one], k-1]\n",
    "            new[choice[two]] = data.iloc[choice[two], k+1]\n",
    "\n",
    "        new_temp = new.copy()\n",
    "\n",
    "        new_temp[choice[one]] = data.iloc[choice[one], k+1]\n",
    "        new_temp[choice[two]] = data.iloc[choice[two], k-1]\n",
    "\n",
    "        if cost_function(new_temp) < cost_function(new):\n",
    "            new[choice[one]] = data.iloc[choice[one], k+1]\n",
    "            new[choice[two]] = data.iloc[choice[two], k-1]\n",
    "\n",
    "        new_temp = new.copy()\n",
    "\n",
    "        new_temp[choice[one]] = data.iloc[choice[one], k+1]\n",
    "        new_temp[choice[two]] = data.iloc[choice[two], k+1]\n",
    "\n",
    "        if cost_function(new_temp) < cost_function(new):\n",
    "            new[choice[one]] = data.iloc[choice[one], k+1]\n",
    "            new[choice[two]] = data.iloc[choice[two], k+1]\n",
    "\n",
    "\n",
    "    score = cost_function(new)\n",
    "    print(f'Score: {score}')"
   ]
  },
  {
   "cell_type": "markdown",
   "metadata": {},
   "source": [
    "Once again, we get an ever so slight, almost insignificant improvement. "
   ]
  },
  {
   "cell_type": "markdown",
   "metadata": {},
   "source": [
    "For kicks, let's see if our original greedy approach makes any difference now."
   ]
  },
  {
   "cell_type": "code",
   "execution_count": 135,
   "metadata": {},
   "outputs": [
    {
     "name": "stdout",
     "output_type": "stream",
     "text": [
      "Score: 83793.86538969411\n",
      "Score: 83745.42122259467\n",
      "Score: 83708.88084410605\n",
      "Score: 83693.18955711178\n",
      "Score: 83630.72079734465\n",
      "Score: 83630.72079734465\n",
      "Score: 83630.72079734465\n",
      "Score: 83630.72079734465\n",
      "Score: 83630.72079734465\n",
      "Score: 83630.72079734465\n",
      "Score: 83630.72079734465\n",
      "Score: 83630.72079734465\n",
      "Score: 83630.72079734465\n",
      "Score: 83630.72079734465\n",
      "Score: 83630.72079734465\n",
      "Score: 83630.72079734465\n",
      "Score: 83630.72079734465\n",
      "Score: 83630.72079734465\n",
      "Score: 83630.72079734465\n",
      "Score: 83630.72079734465\n",
      "82.02962054808934 minutes\n"
     ]
    }
   ],
   "source": [
    "start = time.time()\n",
    "\n",
    "iterations = 20\n",
    "for j in range(iterations):\n",
    "    for i in range(5000):\n",
    "        for k in range(10):\n",
    "            if np.where(data.iloc[i,0:10] == new[i])[0][0] == k:\n",
    "\n",
    "                new_temp1 = new.copy()\n",
    "                new_temp2 = new.copy()\n",
    "                new_temp3 = new.copy()\n",
    "                new_temp4 = new.copy()\n",
    "                new_temp5 = new.copy()\n",
    "                new_temp6 = new.copy()\n",
    "                new_temp7 = new.copy()\n",
    "                new_temp8 = new.copy()\n",
    "                new_temp9 = new.copy()\n",
    "\n",
    "                new_temp1[i] = data.iloc[i,(k+1)%10]\n",
    "                new_temp2[i] = data.iloc[i,(k+2)%10]\n",
    "                new_temp3[i] = data.iloc[i,(k+3)%10]\n",
    "                new_temp4[i] = data.iloc[i,(k+4)%10]\n",
    "                new_temp5[i] = data.iloc[i,(k+5)%10]\n",
    "                new_temp6[i] = data.iloc[i,(k+6)%10]\n",
    "                new_temp7[i] = data.iloc[i,(k+7)%10]\n",
    "                new_temp8[i] = data.iloc[i,(k+8)%10]\n",
    "                new_temp9[i] = data.iloc[i,(k+9)%10]\n",
    "\n",
    "                shifts = [(k+1)%10,(k+2)%10,(k+3)%10,(k+4)%10,(k+5)%10,(k+6)%10,(k+7)%10,(k+8)%10,(k+9)%10]\n",
    "                if np.min([cost_function(new_temp1),cost_function(new_temp2),cost_function(new_temp3),cost_function(new_temp4), cost_function(new_temp5),\n",
    "                           cost_function(new_temp6),cost_function(new_temp7),cost_function(new_temp8),cost_function(new_temp9)]) < cost_function(new):\n",
    "                    new_column = np.argmin([cost_function(new_temp1),cost_function(new_temp2),cost_function(new_temp3),cost_function(new_temp4), \n",
    "                                            cost_function(new_temp5),cost_function(new_temp6),cost_function(new_temp7),cost_function(new_temp8),\n",
    "                                            cost_function(new_temp9)]) \n",
    "                    new[i] = data.iloc[i,shifts[new_column]]\n",
    "    \n",
    "    score = cost_function(new)\n",
    "    to_plot.append(score)\n",
    "    print(f'Score: {score}')\n",
    "    \n",
    "    \n",
    "print((time.time() - start)/60, 'minutes')"
   ]
  },
  {
   "cell_type": "markdown",
   "metadata": {},
   "source": [
    "So we see an improvement of almost 400 in the first 5 iterations."
   ]
  },
  {
   "cell_type": "markdown",
   "metadata": {},
   "source": [
    "### At this point, we could continue to go back and forth between these two algorithms, but they are computationally expensive and only produce minimal improvements. After a few more hours of this, I was only able to minimize my cost to about 83600. From here, I looked at the leaderboard on Kaggle, and it seems as though the true minimum score is 68888. I would have loved to get below 80000 with my methods, but I think I would need an alternate approach. The greedy method is just too computationally expensive, and it doesn't produce great results after the first dozen or so iterations. It appears as though many of the top placing teams on kaggle used Mixed Integer Programming to solve this problem. This is not something I know, but in the future I plan on learning about this and revisiting the Santa problem to get a better score."
   ]
  },
  {
   "cell_type": "code",
   "execution_count": null,
   "metadata": {},
   "outputs": [],
   "source": []
  }
 ],
 "metadata": {
  "kernelspec": {
   "display_name": "Python 3",
   "language": "python",
   "name": "python3"
  },
  "language_info": {
   "codemirror_mode": {
    "name": "ipython",
    "version": 3
   },
   "file_extension": ".py",
   "mimetype": "text/x-python",
   "name": "python",
   "nbconvert_exporter": "python",
   "pygments_lexer": "ipython3",
   "version": "3.7.6"
  }
 },
 "nbformat": 4,
 "nbformat_minor": 4
}
